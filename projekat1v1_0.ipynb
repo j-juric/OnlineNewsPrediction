{
 "cells": [
  {
   "cell_type": "markdown",
   "metadata": {},
   "source": [
    "# Predviđanje popularnosti online članaka\n",
    "\n",
    "### Jovan Jurić 1206\n",
    "\n",
    "Zadatak ovog projekta je predviđanje popularnosti online članaka. Dataset je preuzet sa ovog __[linka](http://archive.ics.uci.edu/ml/datasets/Online+News+Popularity)__."
   ]
  },
  {
   "cell_type": "code",
   "execution_count": 1,
   "metadata": {},
   "outputs": [],
   "source": [
    "from sklearn.naive_bayes import GaussianNB\n",
    "from sklearn.neighbors import KNeighborsClassifier\n",
    "from sklearn.ensemble import RandomForestClassifier\n",
    "from sklearn.ensemble import AdaBoostClassifier\n",
    "from sklearn.svm import SVC\n",
    "from sklearn.preprocessing import MinMaxScaler\n",
    "from sklearn.tree import DecisionTreeClassifier\n",
    "from sklearn.metrics import classification_report, confusion_matrix, accuracy_score\n",
    "from sklearn.model_selection import cross_val_score, KFold, train_test_split\n",
    "import seaborn as sb\n",
    "import pandas as pd\n",
    "import numpy as np\n",
    "import math\n",
    "import matplotlib.pyplot as plt"
   ]
  },
  {
   "cell_type": "code",
   "execution_count": 2,
   "metadata": {},
   "outputs": [
    {
     "data": {
      "text/html": [
       "<div>\n",
       "<style scoped>\n",
       "    .dataframe tbody tr th:only-of-type {\n",
       "        vertical-align: middle;\n",
       "    }\n",
       "\n",
       "    .dataframe tbody tr th {\n",
       "        vertical-align: top;\n",
       "    }\n",
       "\n",
       "    .dataframe thead th {\n",
       "        text-align: right;\n",
       "    }\n",
       "</style>\n",
       "<table border=\"1\" class=\"dataframe\">\n",
       "  <thead>\n",
       "    <tr style=\"text-align: right;\">\n",
       "      <th></th>\n",
       "      <th>url</th>\n",
       "      <th>timedelta</th>\n",
       "      <th>n_tokens_title</th>\n",
       "      <th>n_tokens_content</th>\n",
       "      <th>n_unique_tokens</th>\n",
       "      <th>n_non_stop_words</th>\n",
       "      <th>n_non_stop_unique_tokens</th>\n",
       "      <th>num_hrefs</th>\n",
       "      <th>num_self_hrefs</th>\n",
       "      <th>num_imgs</th>\n",
       "      <th>...</th>\n",
       "      <th>min_positive_polarity</th>\n",
       "      <th>max_positive_polarity</th>\n",
       "      <th>avg_negative_polarity</th>\n",
       "      <th>min_negative_polarity</th>\n",
       "      <th>max_negative_polarity</th>\n",
       "      <th>title_subjectivity</th>\n",
       "      <th>title_sentiment_polarity</th>\n",
       "      <th>abs_title_subjectivity</th>\n",
       "      <th>abs_title_sentiment_polarity</th>\n",
       "      <th>shares</th>\n",
       "    </tr>\n",
       "  </thead>\n",
       "  <tbody>\n",
       "    <tr>\n",
       "      <th>14246</th>\n",
       "      <td>http://mashable.com/2013/10/09/apple-ipad-5-le...</td>\n",
       "      <td>456.0</td>\n",
       "      <td>10.0</td>\n",
       "      <td>1435.0</td>\n",
       "      <td>0.390157</td>\n",
       "      <td>1.0</td>\n",
       "      <td>0.572804</td>\n",
       "      <td>16.0</td>\n",
       "      <td>7.0</td>\n",
       "      <td>8.0</td>\n",
       "      <td>...</td>\n",
       "      <td>0.050000</td>\n",
       "      <td>1.0</td>\n",
       "      <td>-0.229365</td>\n",
       "      <td>-1.000000</td>\n",
       "      <td>-0.050000</td>\n",
       "      <td>0.000000</td>\n",
       "      <td>0.000000</td>\n",
       "      <td>0.500000</td>\n",
       "      <td>0.000000</td>\n",
       "      <td>1900</td>\n",
       "    </tr>\n",
       "    <tr>\n",
       "      <th>37697</th>\n",
       "      <td>http://mashable.com/2014/11/25/moto-hint-review/</td>\n",
       "      <td>42.0</td>\n",
       "      <td>10.0</td>\n",
       "      <td>460.0</td>\n",
       "      <td>0.479029</td>\n",
       "      <td>1.0</td>\n",
       "      <td>0.580420</td>\n",
       "      <td>2.0</td>\n",
       "      <td>1.0</td>\n",
       "      <td>3.0</td>\n",
       "      <td>...</td>\n",
       "      <td>0.050000</td>\n",
       "      <td>0.5</td>\n",
       "      <td>-0.313750</td>\n",
       "      <td>-0.600000</td>\n",
       "      <td>-0.100000</td>\n",
       "      <td>0.900000</td>\n",
       "      <td>-0.600000</td>\n",
       "      <td>0.400000</td>\n",
       "      <td>0.600000</td>\n",
       "      <td>1200</td>\n",
       "    </tr>\n",
       "    <tr>\n",
       "      <th>38826</th>\n",
       "      <td>http://mashable.com/2014/12/12/new-york-city-s...</td>\n",
       "      <td>24.0</td>\n",
       "      <td>14.0</td>\n",
       "      <td>639.0</td>\n",
       "      <td>0.514107</td>\n",
       "      <td>1.0</td>\n",
       "      <td>0.743662</td>\n",
       "      <td>6.0</td>\n",
       "      <td>4.0</td>\n",
       "      <td>1.0</td>\n",
       "      <td>...</td>\n",
       "      <td>0.100000</td>\n",
       "      <td>1.0</td>\n",
       "      <td>-0.382630</td>\n",
       "      <td>-1.000000</td>\n",
       "      <td>-0.071429</td>\n",
       "      <td>0.638889</td>\n",
       "      <td>0.116667</td>\n",
       "      <td>0.138889</td>\n",
       "      <td>0.116667</td>\n",
       "      <td>995</td>\n",
       "    </tr>\n",
       "    <tr>\n",
       "      <th>22600</th>\n",
       "      <td>http://mashable.com/2014/03/29/culture-of-empo...</td>\n",
       "      <td>285.0</td>\n",
       "      <td>13.0</td>\n",
       "      <td>444.0</td>\n",
       "      <td>0.619617</td>\n",
       "      <td>1.0</td>\n",
       "      <td>0.787546</td>\n",
       "      <td>16.0</td>\n",
       "      <td>2.0</td>\n",
       "      <td>1.0</td>\n",
       "      <td>...</td>\n",
       "      <td>0.100000</td>\n",
       "      <td>0.8</td>\n",
       "      <td>-0.348810</td>\n",
       "      <td>-1.000000</td>\n",
       "      <td>-0.050000</td>\n",
       "      <td>0.150000</td>\n",
       "      <td>0.100000</td>\n",
       "      <td>0.350000</td>\n",
       "      <td>0.100000</td>\n",
       "      <td>2900</td>\n",
       "    </tr>\n",
       "    <tr>\n",
       "      <th>15984</th>\n",
       "      <td>http://mashable.com/2013/11/12/itunes-donate-t...</td>\n",
       "      <td>422.0</td>\n",
       "      <td>6.0</td>\n",
       "      <td>140.0</td>\n",
       "      <td>0.724638</td>\n",
       "      <td>1.0</td>\n",
       "      <td>0.842697</td>\n",
       "      <td>2.0</td>\n",
       "      <td>0.0</td>\n",
       "      <td>1.0</td>\n",
       "      <td>...</td>\n",
       "      <td>0.200000</td>\n",
       "      <td>1.0</td>\n",
       "      <td>-0.312500</td>\n",
       "      <td>-0.800000</td>\n",
       "      <td>-0.187500</td>\n",
       "      <td>0.000000</td>\n",
       "      <td>0.000000</td>\n",
       "      <td>0.500000</td>\n",
       "      <td>0.000000</td>\n",
       "      <td>998</td>\n",
       "    </tr>\n",
       "    <tr>\n",
       "      <th>...</th>\n",
       "      <td>...</td>\n",
       "      <td>...</td>\n",
       "      <td>...</td>\n",
       "      <td>...</td>\n",
       "      <td>...</td>\n",
       "      <td>...</td>\n",
       "      <td>...</td>\n",
       "      <td>...</td>\n",
       "      <td>...</td>\n",
       "      <td>...</td>\n",
       "      <td>...</td>\n",
       "      <td>...</td>\n",
       "      <td>...</td>\n",
       "      <td>...</td>\n",
       "      <td>...</td>\n",
       "      <td>...</td>\n",
       "      <td>...</td>\n",
       "      <td>...</td>\n",
       "      <td>...</td>\n",
       "      <td>...</td>\n",
       "      <td>...</td>\n",
       "    </tr>\n",
       "    <tr>\n",
       "      <th>27639</th>\n",
       "      <td>http://mashable.com/2014/06/24/luis-suarez-bit...</td>\n",
       "      <td>198.0</td>\n",
       "      <td>11.0</td>\n",
       "      <td>219.0</td>\n",
       "      <td>0.557078</td>\n",
       "      <td>1.0</td>\n",
       "      <td>0.697674</td>\n",
       "      <td>5.0</td>\n",
       "      <td>2.0</td>\n",
       "      <td>2.0</td>\n",
       "      <td>...</td>\n",
       "      <td>0.100000</td>\n",
       "      <td>0.8</td>\n",
       "      <td>-0.125000</td>\n",
       "      <td>-0.125000</td>\n",
       "      <td>-0.125000</td>\n",
       "      <td>0.477273</td>\n",
       "      <td>0.318182</td>\n",
       "      <td>0.022727</td>\n",
       "      <td>0.318182</td>\n",
       "      <td>701</td>\n",
       "    </tr>\n",
       "    <tr>\n",
       "      <th>24578</th>\n",
       "      <td>http://mashable.com/2014/05/02/must-reads-5-2-14/</td>\n",
       "      <td>251.0</td>\n",
       "      <td>10.0</td>\n",
       "      <td>315.0</td>\n",
       "      <td>0.590476</td>\n",
       "      <td>1.0</td>\n",
       "      <td>0.753846</td>\n",
       "      <td>11.0</td>\n",
       "      <td>5.0</td>\n",
       "      <td>1.0</td>\n",
       "      <td>...</td>\n",
       "      <td>0.033333</td>\n",
       "      <td>0.5</td>\n",
       "      <td>-0.141667</td>\n",
       "      <td>-0.166667</td>\n",
       "      <td>-0.125000</td>\n",
       "      <td>0.000000</td>\n",
       "      <td>0.000000</td>\n",
       "      <td>0.500000</td>\n",
       "      <td>0.000000</td>\n",
       "      <td>905</td>\n",
       "    </tr>\n",
       "    <tr>\n",
       "      <th>33792</th>\n",
       "      <td>http://mashable.com/2014/10/01/advertising-wee...</td>\n",
       "      <td>99.0</td>\n",
       "      <td>14.0</td>\n",
       "      <td>990.0</td>\n",
       "      <td>0.451481</td>\n",
       "      <td>1.0</td>\n",
       "      <td>0.611475</td>\n",
       "      <td>11.0</td>\n",
       "      <td>2.0</td>\n",
       "      <td>1.0</td>\n",
       "      <td>...</td>\n",
       "      <td>0.100000</td>\n",
       "      <td>1.0</td>\n",
       "      <td>-0.208333</td>\n",
       "      <td>-0.800000</td>\n",
       "      <td>-0.075000</td>\n",
       "      <td>0.562626</td>\n",
       "      <td>0.328788</td>\n",
       "      <td>0.062626</td>\n",
       "      <td>0.328788</td>\n",
       "      <td>2700</td>\n",
       "    </tr>\n",
       "    <tr>\n",
       "      <th>3440</th>\n",
       "      <td>http://mashable.com/2013/03/07/zombie-shuffle/</td>\n",
       "      <td>672.0</td>\n",
       "      <td>10.0</td>\n",
       "      <td>538.0</td>\n",
       "      <td>0.538899</td>\n",
       "      <td>1.0</td>\n",
       "      <td>0.726962</td>\n",
       "      <td>4.0</td>\n",
       "      <td>2.0</td>\n",
       "      <td>0.0</td>\n",
       "      <td>...</td>\n",
       "      <td>0.100000</td>\n",
       "      <td>0.6</td>\n",
       "      <td>-0.289297</td>\n",
       "      <td>-0.400000</td>\n",
       "      <td>-0.100000</td>\n",
       "      <td>0.400000</td>\n",
       "      <td>-0.150000</td>\n",
       "      <td>0.100000</td>\n",
       "      <td>0.150000</td>\n",
       "      <td>2100</td>\n",
       "    </tr>\n",
       "    <tr>\n",
       "      <th>14388</th>\n",
       "      <td>http://mashable.com/2013/10/11/commuter-series...</td>\n",
       "      <td>454.0</td>\n",
       "      <td>10.0</td>\n",
       "      <td>683.0</td>\n",
       "      <td>0.464809</td>\n",
       "      <td>1.0</td>\n",
       "      <td>0.609756</td>\n",
       "      <td>7.0</td>\n",
       "      <td>4.0</td>\n",
       "      <td>1.0</td>\n",
       "      <td>...</td>\n",
       "      <td>0.033333</td>\n",
       "      <td>1.0</td>\n",
       "      <td>-0.215754</td>\n",
       "      <td>-0.500000</td>\n",
       "      <td>-0.071429</td>\n",
       "      <td>0.318182</td>\n",
       "      <td>0.128788</td>\n",
       "      <td>0.181818</td>\n",
       "      <td>0.128788</td>\n",
       "      <td>1300</td>\n",
       "    </tr>\n",
       "  </tbody>\n",
       "</table>\n",
       "<p>39644 rows × 61 columns</p>\n",
       "</div>"
      ],
      "text/plain": [
       "                                                     url  timedelta  \\\n",
       "14246  http://mashable.com/2013/10/09/apple-ipad-5-le...      456.0   \n",
       "37697   http://mashable.com/2014/11/25/moto-hint-review/       42.0   \n",
       "38826  http://mashable.com/2014/12/12/new-york-city-s...       24.0   \n",
       "22600  http://mashable.com/2014/03/29/culture-of-empo...      285.0   \n",
       "15984  http://mashable.com/2013/11/12/itunes-donate-t...      422.0   \n",
       "...                                                  ...        ...   \n",
       "27639  http://mashable.com/2014/06/24/luis-suarez-bit...      198.0   \n",
       "24578  http://mashable.com/2014/05/02/must-reads-5-2-14/      251.0   \n",
       "33792  http://mashable.com/2014/10/01/advertising-wee...       99.0   \n",
       "3440      http://mashable.com/2013/03/07/zombie-shuffle/      672.0   \n",
       "14388  http://mashable.com/2013/10/11/commuter-series...      454.0   \n",
       "\n",
       "       n_tokens_title  n_tokens_content  n_unique_tokens  n_non_stop_words  \\\n",
       "14246            10.0            1435.0         0.390157               1.0   \n",
       "37697            10.0             460.0         0.479029               1.0   \n",
       "38826            14.0             639.0         0.514107               1.0   \n",
       "22600            13.0             444.0         0.619617               1.0   \n",
       "15984             6.0             140.0         0.724638               1.0   \n",
       "...               ...               ...              ...               ...   \n",
       "27639            11.0             219.0         0.557078               1.0   \n",
       "24578            10.0             315.0         0.590476               1.0   \n",
       "33792            14.0             990.0         0.451481               1.0   \n",
       "3440             10.0             538.0         0.538899               1.0   \n",
       "14388            10.0             683.0         0.464809               1.0   \n",
       "\n",
       "       n_non_stop_unique_tokens  num_hrefs  num_self_hrefs  num_imgs  ...  \\\n",
       "14246                  0.572804       16.0             7.0       8.0  ...   \n",
       "37697                  0.580420        2.0             1.0       3.0  ...   \n",
       "38826                  0.743662        6.0             4.0       1.0  ...   \n",
       "22600                  0.787546       16.0             2.0       1.0  ...   \n",
       "15984                  0.842697        2.0             0.0       1.0  ...   \n",
       "...                         ...        ...             ...       ...  ...   \n",
       "27639                  0.697674        5.0             2.0       2.0  ...   \n",
       "24578                  0.753846       11.0             5.0       1.0  ...   \n",
       "33792                  0.611475       11.0             2.0       1.0  ...   \n",
       "3440                   0.726962        4.0             2.0       0.0  ...   \n",
       "14388                  0.609756        7.0             4.0       1.0  ...   \n",
       "\n",
       "       min_positive_polarity  max_positive_polarity  avg_negative_polarity  \\\n",
       "14246               0.050000                    1.0              -0.229365   \n",
       "37697               0.050000                    0.5              -0.313750   \n",
       "38826               0.100000                    1.0              -0.382630   \n",
       "22600               0.100000                    0.8              -0.348810   \n",
       "15984               0.200000                    1.0              -0.312500   \n",
       "...                      ...                    ...                    ...   \n",
       "27639               0.100000                    0.8              -0.125000   \n",
       "24578               0.033333                    0.5              -0.141667   \n",
       "33792               0.100000                    1.0              -0.208333   \n",
       "3440                0.100000                    0.6              -0.289297   \n",
       "14388               0.033333                    1.0              -0.215754   \n",
       "\n",
       "       min_negative_polarity  max_negative_polarity  title_subjectivity  \\\n",
       "14246              -1.000000              -0.050000            0.000000   \n",
       "37697              -0.600000              -0.100000            0.900000   \n",
       "38826              -1.000000              -0.071429            0.638889   \n",
       "22600              -1.000000              -0.050000            0.150000   \n",
       "15984              -0.800000              -0.187500            0.000000   \n",
       "...                      ...                    ...                 ...   \n",
       "27639              -0.125000              -0.125000            0.477273   \n",
       "24578              -0.166667              -0.125000            0.000000   \n",
       "33792              -0.800000              -0.075000            0.562626   \n",
       "3440               -0.400000              -0.100000            0.400000   \n",
       "14388              -0.500000              -0.071429            0.318182   \n",
       "\n",
       "       title_sentiment_polarity  abs_title_subjectivity  \\\n",
       "14246                  0.000000                0.500000   \n",
       "37697                 -0.600000                0.400000   \n",
       "38826                  0.116667                0.138889   \n",
       "22600                  0.100000                0.350000   \n",
       "15984                  0.000000                0.500000   \n",
       "...                         ...                     ...   \n",
       "27639                  0.318182                0.022727   \n",
       "24578                  0.000000                0.500000   \n",
       "33792                  0.328788                0.062626   \n",
       "3440                  -0.150000                0.100000   \n",
       "14388                  0.128788                0.181818   \n",
       "\n",
       "       abs_title_sentiment_polarity  shares  \n",
       "14246                      0.000000    1900  \n",
       "37697                      0.600000    1200  \n",
       "38826                      0.116667     995  \n",
       "22600                      0.100000    2900  \n",
       "15984                      0.000000     998  \n",
       "...                             ...     ...  \n",
       "27639                      0.318182     701  \n",
       "24578                      0.000000     905  \n",
       "33792                      0.328788    2700  \n",
       "3440                       0.150000    2100  \n",
       "14388                      0.128788    1300  \n",
       "\n",
       "[39644 rows x 61 columns]"
      ]
     },
     "execution_count": 2,
     "metadata": {},
     "output_type": "execute_result"
    }
   ],
   "source": [
    "#Read data\n",
    "data = pd.read_csv('./dataset.csv',sep=',',skipinitialspace=True)\n",
    "data = data.sample(frac = 1)\n",
    "data"
   ]
  },
  {
   "cell_type": "markdown",
   "metadata": {},
   "source": [
    "Svako preprocesiranje dataseta je izvršeno pre njegovog objavljivanja tako da ne postoje nikakve nevalidne odnosno prazne vrednosti. \n",
    "\n",
    "Možemo uočiti da su nam podaci iz prve dve kolone (URL i broj dana koji je protekao između objavljivanja članaka i preuzimanja podataka) beznačajne za predviđanje naših podataka tako da ćemo ih odmah izbaciti iz upotrebe.\n",
    "\n",
    "Što znači da imamo 58 atributa za predviđanje i jednu ciljnu vrednost (broj share-ova) kao i gotovo 40.000 entiteta."
   ]
  },
  {
   "cell_type": "code",
   "execution_count": 3,
   "metadata": {},
   "outputs": [],
   "source": [
    "x = data.iloc[:,2:-1]\n",
    "column_names = x.columns\n",
    "y = data['shares']"
   ]
  },
  {
   "cell_type": "markdown",
   "metadata": {},
   "source": [
    "U nastavku je data deskriptivna analiza podataka ulaznih podataka."
   ]
  },
  {
   "cell_type": "code",
   "execution_count": 4,
   "metadata": {},
   "outputs": [
    {
     "data": {
      "text/html": [
       "<div>\n",
       "<style scoped>\n",
       "    .dataframe tbody tr th:only-of-type {\n",
       "        vertical-align: middle;\n",
       "    }\n",
       "\n",
       "    .dataframe tbody tr th {\n",
       "        vertical-align: top;\n",
       "    }\n",
       "\n",
       "    .dataframe thead th {\n",
       "        text-align: right;\n",
       "    }\n",
       "</style>\n",
       "<table border=\"1\" class=\"dataframe\">\n",
       "  <thead>\n",
       "    <tr style=\"text-align: right;\">\n",
       "      <th></th>\n",
       "      <th>n_tokens_title</th>\n",
       "      <th>n_tokens_content</th>\n",
       "      <th>n_unique_tokens</th>\n",
       "      <th>n_non_stop_words</th>\n",
       "      <th>n_non_stop_unique_tokens</th>\n",
       "      <th>num_hrefs</th>\n",
       "      <th>num_self_hrefs</th>\n",
       "      <th>num_imgs</th>\n",
       "      <th>num_videos</th>\n",
       "      <th>average_token_length</th>\n",
       "      <th>...</th>\n",
       "      <th>avg_positive_polarity</th>\n",
       "      <th>min_positive_polarity</th>\n",
       "      <th>max_positive_polarity</th>\n",
       "      <th>avg_negative_polarity</th>\n",
       "      <th>min_negative_polarity</th>\n",
       "      <th>max_negative_polarity</th>\n",
       "      <th>title_subjectivity</th>\n",
       "      <th>title_sentiment_polarity</th>\n",
       "      <th>abs_title_subjectivity</th>\n",
       "      <th>abs_title_sentiment_polarity</th>\n",
       "    </tr>\n",
       "  </thead>\n",
       "  <tbody>\n",
       "    <tr>\n",
       "      <th>count</th>\n",
       "      <td>39644.000000</td>\n",
       "      <td>39644.000000</td>\n",
       "      <td>39644.000000</td>\n",
       "      <td>39644.000000</td>\n",
       "      <td>39644.000000</td>\n",
       "      <td>39644.000000</td>\n",
       "      <td>39644.000000</td>\n",
       "      <td>39644.000000</td>\n",
       "      <td>39644.000000</td>\n",
       "      <td>39644.000000</td>\n",
       "      <td>...</td>\n",
       "      <td>39644.000000</td>\n",
       "      <td>39644.000000</td>\n",
       "      <td>39644.000000</td>\n",
       "      <td>39644.000000</td>\n",
       "      <td>39644.000000</td>\n",
       "      <td>39644.000000</td>\n",
       "      <td>39644.000000</td>\n",
       "      <td>39644.000000</td>\n",
       "      <td>39644.000000</td>\n",
       "      <td>39644.000000</td>\n",
       "    </tr>\n",
       "    <tr>\n",
       "      <th>mean</th>\n",
       "      <td>10.398749</td>\n",
       "      <td>546.514731</td>\n",
       "      <td>0.548216</td>\n",
       "      <td>0.996469</td>\n",
       "      <td>0.689175</td>\n",
       "      <td>10.883690</td>\n",
       "      <td>3.293638</td>\n",
       "      <td>4.544143</td>\n",
       "      <td>1.249874</td>\n",
       "      <td>4.548239</td>\n",
       "      <td>...</td>\n",
       "      <td>0.353825</td>\n",
       "      <td>0.095446</td>\n",
       "      <td>0.756728</td>\n",
       "      <td>-0.259524</td>\n",
       "      <td>-0.521944</td>\n",
       "      <td>-0.107500</td>\n",
       "      <td>0.282353</td>\n",
       "      <td>0.071425</td>\n",
       "      <td>0.341843</td>\n",
       "      <td>0.156064</td>\n",
       "    </tr>\n",
       "    <tr>\n",
       "      <th>std</th>\n",
       "      <td>2.114037</td>\n",
       "      <td>471.107508</td>\n",
       "      <td>3.520708</td>\n",
       "      <td>5.231231</td>\n",
       "      <td>3.264816</td>\n",
       "      <td>11.332017</td>\n",
       "      <td>3.855141</td>\n",
       "      <td>8.309434</td>\n",
       "      <td>4.107855</td>\n",
       "      <td>0.844406</td>\n",
       "      <td>...</td>\n",
       "      <td>0.104542</td>\n",
       "      <td>0.071315</td>\n",
       "      <td>0.247786</td>\n",
       "      <td>0.127726</td>\n",
       "      <td>0.290290</td>\n",
       "      <td>0.095373</td>\n",
       "      <td>0.324247</td>\n",
       "      <td>0.265450</td>\n",
       "      <td>0.188791</td>\n",
       "      <td>0.226294</td>\n",
       "    </tr>\n",
       "    <tr>\n",
       "      <th>min</th>\n",
       "      <td>2.000000</td>\n",
       "      <td>0.000000</td>\n",
       "      <td>0.000000</td>\n",
       "      <td>0.000000</td>\n",
       "      <td>0.000000</td>\n",
       "      <td>0.000000</td>\n",
       "      <td>0.000000</td>\n",
       "      <td>0.000000</td>\n",
       "      <td>0.000000</td>\n",
       "      <td>0.000000</td>\n",
       "      <td>...</td>\n",
       "      <td>0.000000</td>\n",
       "      <td>0.000000</td>\n",
       "      <td>0.000000</td>\n",
       "      <td>-1.000000</td>\n",
       "      <td>-1.000000</td>\n",
       "      <td>-1.000000</td>\n",
       "      <td>0.000000</td>\n",
       "      <td>-1.000000</td>\n",
       "      <td>0.000000</td>\n",
       "      <td>0.000000</td>\n",
       "    </tr>\n",
       "    <tr>\n",
       "      <th>25%</th>\n",
       "      <td>9.000000</td>\n",
       "      <td>246.000000</td>\n",
       "      <td>0.470870</td>\n",
       "      <td>1.000000</td>\n",
       "      <td>0.625739</td>\n",
       "      <td>4.000000</td>\n",
       "      <td>1.000000</td>\n",
       "      <td>1.000000</td>\n",
       "      <td>0.000000</td>\n",
       "      <td>4.478404</td>\n",
       "      <td>...</td>\n",
       "      <td>0.306244</td>\n",
       "      <td>0.050000</td>\n",
       "      <td>0.600000</td>\n",
       "      <td>-0.328383</td>\n",
       "      <td>-0.700000</td>\n",
       "      <td>-0.125000</td>\n",
       "      <td>0.000000</td>\n",
       "      <td>0.000000</td>\n",
       "      <td>0.166667</td>\n",
       "      <td>0.000000</td>\n",
       "    </tr>\n",
       "    <tr>\n",
       "      <th>50%</th>\n",
       "      <td>10.000000</td>\n",
       "      <td>409.000000</td>\n",
       "      <td>0.539226</td>\n",
       "      <td>1.000000</td>\n",
       "      <td>0.690476</td>\n",
       "      <td>8.000000</td>\n",
       "      <td>3.000000</td>\n",
       "      <td>1.000000</td>\n",
       "      <td>0.000000</td>\n",
       "      <td>4.664082</td>\n",
       "      <td>...</td>\n",
       "      <td>0.358755</td>\n",
       "      <td>0.100000</td>\n",
       "      <td>0.800000</td>\n",
       "      <td>-0.253333</td>\n",
       "      <td>-0.500000</td>\n",
       "      <td>-0.100000</td>\n",
       "      <td>0.150000</td>\n",
       "      <td>0.000000</td>\n",
       "      <td>0.500000</td>\n",
       "      <td>0.000000</td>\n",
       "    </tr>\n",
       "    <tr>\n",
       "      <th>75%</th>\n",
       "      <td>12.000000</td>\n",
       "      <td>716.000000</td>\n",
       "      <td>0.608696</td>\n",
       "      <td>1.000000</td>\n",
       "      <td>0.754630</td>\n",
       "      <td>14.000000</td>\n",
       "      <td>4.000000</td>\n",
       "      <td>4.000000</td>\n",
       "      <td>1.000000</td>\n",
       "      <td>4.854839</td>\n",
       "      <td>...</td>\n",
       "      <td>0.411428</td>\n",
       "      <td>0.100000</td>\n",
       "      <td>1.000000</td>\n",
       "      <td>-0.186905</td>\n",
       "      <td>-0.300000</td>\n",
       "      <td>-0.050000</td>\n",
       "      <td>0.500000</td>\n",
       "      <td>0.150000</td>\n",
       "      <td>0.500000</td>\n",
       "      <td>0.250000</td>\n",
       "    </tr>\n",
       "    <tr>\n",
       "      <th>max</th>\n",
       "      <td>23.000000</td>\n",
       "      <td>8474.000000</td>\n",
       "      <td>701.000000</td>\n",
       "      <td>1042.000000</td>\n",
       "      <td>650.000000</td>\n",
       "      <td>304.000000</td>\n",
       "      <td>116.000000</td>\n",
       "      <td>128.000000</td>\n",
       "      <td>91.000000</td>\n",
       "      <td>8.041534</td>\n",
       "      <td>...</td>\n",
       "      <td>1.000000</td>\n",
       "      <td>1.000000</td>\n",
       "      <td>1.000000</td>\n",
       "      <td>0.000000</td>\n",
       "      <td>0.000000</td>\n",
       "      <td>0.000000</td>\n",
       "      <td>1.000000</td>\n",
       "      <td>1.000000</td>\n",
       "      <td>0.500000</td>\n",
       "      <td>1.000000</td>\n",
       "    </tr>\n",
       "  </tbody>\n",
       "</table>\n",
       "<p>8 rows × 58 columns</p>\n",
       "</div>"
      ],
      "text/plain": [
       "       n_tokens_title  n_tokens_content  n_unique_tokens  n_non_stop_words  \\\n",
       "count    39644.000000      39644.000000     39644.000000      39644.000000   \n",
       "mean        10.398749        546.514731         0.548216          0.996469   \n",
       "std          2.114037        471.107508         3.520708          5.231231   \n",
       "min          2.000000          0.000000         0.000000          0.000000   \n",
       "25%          9.000000        246.000000         0.470870          1.000000   \n",
       "50%         10.000000        409.000000         0.539226          1.000000   \n",
       "75%         12.000000        716.000000         0.608696          1.000000   \n",
       "max         23.000000       8474.000000       701.000000       1042.000000   \n",
       "\n",
       "       n_non_stop_unique_tokens     num_hrefs  num_self_hrefs      num_imgs  \\\n",
       "count              39644.000000  39644.000000    39644.000000  39644.000000   \n",
       "mean                   0.689175     10.883690        3.293638      4.544143   \n",
       "std                    3.264816     11.332017        3.855141      8.309434   \n",
       "min                    0.000000      0.000000        0.000000      0.000000   \n",
       "25%                    0.625739      4.000000        1.000000      1.000000   \n",
       "50%                    0.690476      8.000000        3.000000      1.000000   \n",
       "75%                    0.754630     14.000000        4.000000      4.000000   \n",
       "max                  650.000000    304.000000      116.000000    128.000000   \n",
       "\n",
       "         num_videos  average_token_length  ...  avg_positive_polarity  \\\n",
       "count  39644.000000          39644.000000  ...           39644.000000   \n",
       "mean       1.249874              4.548239  ...               0.353825   \n",
       "std        4.107855              0.844406  ...               0.104542   \n",
       "min        0.000000              0.000000  ...               0.000000   \n",
       "25%        0.000000              4.478404  ...               0.306244   \n",
       "50%        0.000000              4.664082  ...               0.358755   \n",
       "75%        1.000000              4.854839  ...               0.411428   \n",
       "max       91.000000              8.041534  ...               1.000000   \n",
       "\n",
       "       min_positive_polarity  max_positive_polarity  avg_negative_polarity  \\\n",
       "count           39644.000000           39644.000000           39644.000000   \n",
       "mean                0.095446               0.756728              -0.259524   \n",
       "std                 0.071315               0.247786               0.127726   \n",
       "min                 0.000000               0.000000              -1.000000   \n",
       "25%                 0.050000               0.600000              -0.328383   \n",
       "50%                 0.100000               0.800000              -0.253333   \n",
       "75%                 0.100000               1.000000              -0.186905   \n",
       "max                 1.000000               1.000000               0.000000   \n",
       "\n",
       "       min_negative_polarity  max_negative_polarity  title_subjectivity  \\\n",
       "count           39644.000000           39644.000000        39644.000000   \n",
       "mean               -0.521944              -0.107500            0.282353   \n",
       "std                 0.290290               0.095373            0.324247   \n",
       "min                -1.000000              -1.000000            0.000000   \n",
       "25%                -0.700000              -0.125000            0.000000   \n",
       "50%                -0.500000              -0.100000            0.150000   \n",
       "75%                -0.300000              -0.050000            0.500000   \n",
       "max                 0.000000               0.000000            1.000000   \n",
       "\n",
       "       title_sentiment_polarity  abs_title_subjectivity  \\\n",
       "count              39644.000000            39644.000000   \n",
       "mean                   0.071425                0.341843   \n",
       "std                    0.265450                0.188791   \n",
       "min                   -1.000000                0.000000   \n",
       "25%                    0.000000                0.166667   \n",
       "50%                    0.000000                0.500000   \n",
       "75%                    0.150000                0.500000   \n",
       "max                    1.000000                0.500000   \n",
       "\n",
       "       abs_title_sentiment_polarity  \n",
       "count                  39644.000000  \n",
       "mean                       0.156064  \n",
       "std                        0.226294  \n",
       "min                        0.000000  \n",
       "25%                        0.000000  \n",
       "50%                        0.000000  \n",
       "75%                        0.250000  \n",
       "max                        1.000000  \n",
       "\n",
       "[8 rows x 58 columns]"
      ]
     },
     "execution_count": 4,
     "metadata": {},
     "output_type": "execute_result"
    }
   ],
   "source": [
    "x.describe()"
   ]
  },
  {
   "cell_type": "markdown",
   "metadata": {},
   "source": [
    "Zatim vršimo i analizu share-ova."
   ]
  },
  {
   "cell_type": "code",
   "execution_count": 5,
   "metadata": {},
   "outputs": [
    {
     "data": {
      "text/plain": [
       "count     39644.000000\n",
       "mean       3395.380184\n",
       "std       11626.950749\n",
       "min           1.000000\n",
       "25%         946.000000\n",
       "50%        1400.000000\n",
       "75%        2800.000000\n",
       "max      843300.000000\n",
       "Name: shares, dtype: float64"
      ]
     },
     "execution_count": 5,
     "metadata": {},
     "output_type": "execute_result"
    }
   ],
   "source": [
    "y.describe()"
   ]
  },
  {
   "cell_type": "markdown",
   "metadata": {},
   "source": [
    "Naredni graf nam prikazuje distribuciju share-ova."
   ]
  },
  {
   "cell_type": "code",
   "execution_count": 6,
   "metadata": {},
   "outputs": [
    {
     "data": {
      "text/plain": [
       "<matplotlib.axes._subplots.AxesSubplot at 0x2a4a9b82188>"
      ]
     },
     "execution_count": 6,
     "metadata": {},
     "output_type": "execute_result"
    },
    {
     "data": {
      "image/png": "[encoded data removed]",
      "text/plain": [
       "<Figure size 432x288 with 1 Axes>"
      ]
     },
     "metadata": {
      "needs_background": "light"
     },
     "output_type": "display_data"
    }
   ],
   "source": [
    "data['shares'].plot(kind='kde', color='blue')"
   ]
  },
  {
   "cell_type": "markdown",
   "metadata": {},
   "source": [
    "Pošto imamo podatke gde svaki atribut ima različiti opseg vrednosti potrebno je izvršiti skaliranje podataka po kolonama kako bi svi podaci bili pozitivni i u opsegu <bold>[0,1]</bold>."
   ]
  },
  {
   "cell_type": "code",
   "execution_count": 7,
   "metadata": {},
   "outputs": [],
   "source": [
    "for column in x.columns:\n",
    "    min_max_scaler = MinMaxScaler()\n",
    "    x[column] = min_max_scaler.fit_transform(x[column].values.reshape(-1,1))"
   ]
  },
  {
   "cell_type": "markdown",
   "metadata": {},
   "source": [
    "Pošto želimo da vršimo klasifikaciju o tome da li će članak biti popularan ili ne tu pretpostavku ćemo izvršiti tako što ćemo obeležiti sve članke koji imaju više od 1400 share-ova kao popularne. Takođe ćemo podatke prebaciti u tip np.array."
   ]
  },
  {
   "cell_type": "code",
   "execution_count": 8,
   "metadata": {},
   "outputs": [],
   "source": [
    "x = np.array(x)\n",
    "y = np.array([i > 1400 for i in y])"
   ]
  },
  {
   "cell_type": "markdown",
   "metadata": {},
   "source": [
    "Zatim delimo podatke na skupove za treniranje i testiranje. "
   ]
  },
  {
   "cell_type": "code",
   "execution_count": 9,
   "metadata": {},
   "outputs": [],
   "source": [
    "x_train, x_test, y_train, y_test = train_test_split(x, y, random_state=1, train_size=0.8)"
   ]
  },
  {
   "cell_type": "code",
   "execution_count": 10,
   "metadata": {},
   "outputs": [],
   "source": [
    "gnb = GaussianNB()\n",
    "dt = DecisionTreeClassifier()\n",
    "svc = SVC()\n",
    "knn = KNeighborsClassifier(n_neighbors=20)\n",
    "rand_forest = RandomForestClassifier(max_depth=50,random_state=5,n_estimators=200)"
   ]
  },
  {
   "cell_type": "code",
   "execution_count": 11,
   "metadata": {},
   "outputs": [],
   "source": [
    "#Ova metoda prikazuje najbitnije fičure kod modela\n",
    "def plot_feature_importance(model):\n",
    "    plt.title('Feature importance')   \n",
    "    column_names_top_10 = [item for _,item in sorted(zip(model.feature_importances_[1:],column_names),reverse=True)]\n",
    "    column_names_top_10 = column_names_top_10[:10]\n",
    "    feature_importance_top_10 = sorted(model.feature_importances_[:-1],reverse=True)[:10]\n",
    "    plt.barh(column_names_top_10, feature_importance_top_10)\n",
    "    plt.show()\n",
    "    \n",
    "#Ova metoda služi za treniranje modela i prikazivanje rezultata testiranja\n",
    "def run_model(model,print_feature_importance=False):\n",
    "    print('*'*75)\n",
    "    print('Model class:',type(model))\n",
    "    trained_model = model.fit(x_train,y_train)\n",
    "    print('Model test score:',trained_model.score(x_test,y_test))\n",
    "    pred = trained_model.predict(x_test)\n",
    "    cross_val_results = cross_val_score(model,x,y)\n",
    "    print('Cross validation results (5 fold):',cross_val_results)\n",
    "    print(classification_report(y_test,pred))\n",
    "    cm = confusion_matrix(y_test,pred)\n",
    "    cm_df = pd.DataFrame(cm,[0,1],[0,1])\n",
    "    group_names=['TN','FP','FN','TP']\n",
    "    group_counts = [\"{0:0.0f}\".format(value) for value in cm.flatten()]\n",
    "    group_percentages = [\"{0:.2%}\".format(value) for value in cm.flatten()/np.sum(cm)]\n",
    "    labels = [f\"{v1}\\n{v2}\\n{v3}\" for v1, v2, v3 in zip(group_names,group_counts,group_percentages)]\n",
    "    labels = np.asarray(labels).reshape(2,2)\n",
    "    plt.title('Confusion matrix heatmap')\n",
    "    sb.heatmap(cm, annot=labels, fmt='', cmap='Blues')\n",
    "    plt.show()\n",
    "    print('*'*75)"
   ]
  },
  {
   "cell_type": "code",
   "execution_count": 12,
   "metadata": {
    "scrolled": true
   },
   "outputs": [
    {
     "name": "stdout",
     "output_type": "stream",
     "text": [
      "***************************************************************************\n",
      "Model class: <class 'sklearn.naive_bayes.GaussianNB'>\n",
      "Model test score: 0.6075167108084247\n",
      "Cross validation results (5 fold): [0.6061294  0.53184513 0.53512423 0.53121453 0.53165994]\n",
      "              precision    recall  f1-score   support\n",
      "\n",
      "       False       0.58      0.77      0.67      3990\n",
      "        True       0.66      0.44      0.53      3939\n",
      "\n",
      "    accuracy                           0.61      7929\n",
      "   macro avg       0.62      0.61      0.60      7929\n",
      "weighted avg       0.62      0.61      0.60      7929\n",
      "\n"
     ]
    },
    {
     "data": {
      "image/png": "[encoded data removed]",
      "text/plain": [
       "<Figure size 432x288 with 2 Axes>"
      ]
     },
     "metadata": {
      "needs_background": "light"
     },
     "output_type": "display_data"
    },
    {
     "name": "stdout",
     "output_type": "stream",
     "text": [
      "***************************************************************************\n"
     ]
    }
   ],
   "source": [
    "run_model(gnb)"
   ]
  },
  {
   "cell_type": "code",
   "execution_count": 13,
   "metadata": {},
   "outputs": [
    {
     "name": "stdout",
     "output_type": "stream",
     "text": [
      "***************************************************************************\n",
      "Model class: <class 'sklearn.tree._classes.DecisionTreeClassifier'>\n",
      "Model test score: 0.5786353890780679\n",
      "Cross validation results (5 fold): [0.56425779 0.58128389 0.57964434 0.57031151 0.57605954]\n",
      "              precision    recall  f1-score   support\n",
      "\n",
      "       False       0.58      0.59      0.58      3990\n",
      "        True       0.58      0.57      0.57      3939\n",
      "\n",
      "    accuracy                           0.58      7929\n",
      "   macro avg       0.58      0.58      0.58      7929\n",
      "weighted avg       0.58      0.58      0.58      7929\n",
      "\n"
     ]
    },
    {
     "data": {
      "image/png": "[encoded data removed]",
      "text/plain": [
       "<Figure size 432x288 with 2 Axes>"
      ]
     },
     "metadata": {
      "needs_background": "light"
     },
     "output_type": "display_data"
    },
    {
     "name": "stdout",
     "output_type": "stream",
     "text": [
      "***************************************************************************\n"
     ]
    }
   ],
   "source": [
    "run_model(dt)"
   ]
  },
  {
   "cell_type": "code",
   "execution_count": 14,
   "metadata": {},
   "outputs": [
    {
     "name": "stdout",
     "output_type": "stream",
     "text": [
      "***************************************************************************\n",
      "Model class: <class 'sklearn.neighbors._classification.KNeighborsClassifier'>\n",
      "Model test score: 0.6293353512422752\n",
      "Cross validation results (5 fold): [0.61281372 0.61874133 0.62202043 0.61836297 0.62600908]\n",
      "              precision    recall  f1-score   support\n",
      "\n",
      "       False       0.61      0.72      0.66      3990\n",
      "        True       0.65      0.54      0.59      3939\n",
      "\n",
      "    accuracy                           0.63      7929\n",
      "   macro avg       0.63      0.63      0.63      7929\n",
      "weighted avg       0.63      0.63      0.63      7929\n",
      "\n"
     ]
    },
    {
     "data": {
      "image/png": "[encoded data removed]",
      "text/plain": [
       "<Figure size 432x288 with 2 Axes>"
      ]
     },
     "metadata": {
      "needs_background": "light"
     },
     "output_type": "display_data"
    },
    {
     "name": "stdout",
     "output_type": "stream",
     "text": [
      "***************************************************************************\n"
     ]
    }
   ],
   "source": [
    "run_model(knn)"
   ]
  },
  {
   "cell_type": "code",
   "execution_count": 17,
   "metadata": {},
   "outputs": [
    {
     "name": "stdout",
     "output_type": "stream",
     "text": [
      "***************************************************************************\n",
      "Model class: <class 'sklearn.ensemble._weight_boosting.AdaBoostClassifier'>\n",
      "Model test score: 0.6636398032538782\n",
      "Cross validation results (5 fold): [0.65758608 0.66162189 0.66263085 0.66401816 0.65956105]\n",
      "              precision    recall  f1-score   support\n",
      "\n",
      "       False       0.66      0.68      0.67      3990\n",
      "        True       0.67      0.65      0.66      3939\n",
      "\n",
      "    accuracy                           0.66      7929\n",
      "   macro avg       0.66      0.66      0.66      7929\n",
      "weighted avg       0.66      0.66      0.66      7929\n",
      "\n"
     ]
    },
    {
     "data": {
      "image/png": "[encoded data removed]",
      "text/plain": [
       "<Figure size 432x288 with 2 Axes>"
      ]
     },
     "metadata": {
      "needs_background": "light"
     },
     "output_type": "display_data"
    },
    {
     "name": "stdout",
     "output_type": "stream",
     "text": [
      "***************************************************************************\n"
     ]
    }
   ],
   "source": [
    "ada = AdaBoostClassifier(n_estimators=100, random_state=0)\n",
    "run_model(ada)"
   ]
  },
  {
   "cell_type": "code",
   "execution_count": 15,
   "metadata": {},
   "outputs": [
    {
     "name": "stdout",
     "output_type": "stream",
     "text": [
      "***************************************************************************\n",
      "Model class: <class 'sklearn.ensemble._forest.RandomForestClassifier'>\n",
      "Model test score: 0.6700718880060538\n",
      "Cross validation results (5 fold): [0.65758608 0.66250473 0.66515323 0.66868458 0.66485873]\n",
      "              precision    recall  f1-score   support\n",
      "\n",
      "       False       0.67      0.68      0.67      3990\n",
      "        True       0.67      0.66      0.67      3939\n",
      "\n",
      "    accuracy                           0.67      7929\n",
      "   macro avg       0.67      0.67      0.67      7929\n",
      "weighted avg       0.67      0.67      0.67      7929\n",
      "\n"
     ]
    },
    {
     "data": {
      "image/png": "[encoded data removed]",
      "text/plain": [
       "<Figure size 432x288 with 2 Axes>"
      ]
     },
     "metadata": {
      "needs_background": "light"
     },
     "output_type": "display_data"
    },
    {
     "name": "stdout",
     "output_type": "stream",
     "text": [
      "***************************************************************************\n"
     ]
    }
   ],
   "source": [
    "run_model(rand_forest)"
   ]
  },
  {
   "cell_type": "markdown",
   "metadata": {},
   "source": [
    "Iz dobijenih rezultata treniranja modela možemo zaključiti da je RandomForestClassifier najbolji model za predviđanje naših rezultata. U nastavku ćemo iz našeg modela videti koji su fičeri najbitniji (10 najbitnijih) u predviđanju rezultata."
   ]
  },
  {
   "cell_type": "code",
   "execution_count": 16,
   "metadata": {},
   "outputs": [
    {
     "data": {
      "image/png": "[encoded data removed]",
      "text/plain": [
       "<Figure size 432x288 with 1 Axes>"
      ]
     },
     "metadata": {
      "needs_background": "light"
     },
     "output_type": "display_data"
    }
   ],
   "source": [
    "plot_feature_importance(rand_forest)"
   ]
  },
  {
   "cell_type": "markdown",
   "metadata": {},
   "source": [
    "Odvade možemo zaključiti da su za predviđanje popularnosti online članaka najbitnije ključne reči koje se koriste u nasolvima, srodnost nekim od kategorija LDA_0x (autor dataseta naveo je da su ovo neke kategorije koje su izračunate metodama procesiranja prirodnih jezika) kao i to da li je članak postavljen za vikend."
   ]
  },
  {
   "cell_type": "code",
   "execution_count": null,
   "metadata": {},
   "outputs": [],
   "source": []
  }
 ],
 "metadata": {
  "kernelspec": {
   "display_name": "Python 3",
   "language": "python",
   "name": "python3"
  },
  "language_info": {
   "codemirror_mode": {
    "name": "ipython",
    "version": 3
   },
   "file_extension": ".py",
   "mimetype": "text/x-python",
   "name": "python",
   "nbconvert_exporter": "python",
   "pygments_lexer": "ipython3",
   "version": "3.7.6"
  }
 },
 "nbformat": 4,
 "nbformat_minor": 4
}
