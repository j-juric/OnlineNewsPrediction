{
 "cells": [
  {
   "cell_type": "markdown",
   "metadata": {},
   "source": [
    "# Predviđanje popularnosti online članaka\n",
    "\n",
    "### Jovan Jurić 1206\n",
    "\n",
    "Zadatak ovog projekta je predviđanje popularnosti online članaka. Dataset je preuzet sa ovog __[linka](http://archive.ics.uci.edu/ml/datasets/Online+News+Popularity)__."
   ]
  },
  {
   "cell_type": "code",
   "execution_count": 38,
   "metadata": {},
   "outputs": [],
   "source": [
    "from sklearn.naive_bayes import GaussianNB\n",
    "from sklearn.neighbors import KNeighborsClassifier\n",
    "from sklearn.ensemble import RandomForestClassifier\n",
    "from sklearn.ensemble import AdaBoostClassifier\n",
    "from sklearn.ensemble import RandomForestRegressor\n",
    "from sklearn.linear_model import LogisticRegression\n",
    "from sklearn.linear_model import LinearRegression\n",
    "from sklearn.svm import SVC\n",
    "from sklearn.preprocessing import MinMaxScaler\n",
    "from sklearn.tree import DecisionTreeClassifier\n",
    "from sklearn.metrics import classification_report, confusion_matrix, accuracy_score, roc_auc_score, roc_curve\n",
    "from sklearn.model_selection import cross_val_score, KFold, train_test_split\n",
    "import seaborn as sb\n",
    "import pandas as pd\n",
    "import numpy as np\n",
    "import math\n",
    "import matplotlib.pyplot as plt"
   ]
  },
  {
   "cell_type": "code",
   "execution_count": 39,
   "metadata": {},
   "outputs": [
    {
     "data": {
      "text/html": [
       "<div>\n",
       "<style scoped>\n",
       "    .dataframe tbody tr th:only-of-type {\n",
       "        vertical-align: middle;\n",
       "    }\n",
       "\n",
       "    .dataframe tbody tr th {\n",
       "        vertical-align: top;\n",
       "    }\n",
       "\n",
       "    .dataframe thead th {\n",
       "        text-align: right;\n",
       "    }\n",
       "</style>\n",
       "<table border=\"1\" class=\"dataframe\">\n",
       "  <thead>\n",
       "    <tr style=\"text-align: right;\">\n",
       "      <th></th>\n",
       "      <th>url</th>\n",
       "      <th>timedelta</th>\n",
       "      <th>n_tokens_title</th>\n",
       "      <th>n_tokens_content</th>\n",
       "      <th>n_unique_tokens</th>\n",
       "      <th>n_non_stop_words</th>\n",
       "      <th>n_non_stop_unique_tokens</th>\n",
       "      <th>num_hrefs</th>\n",
       "      <th>num_self_hrefs</th>\n",
       "      <th>num_imgs</th>\n",
       "      <th>...</th>\n",
       "      <th>min_positive_polarity</th>\n",
       "      <th>max_positive_polarity</th>\n",
       "      <th>avg_negative_polarity</th>\n",
       "      <th>min_negative_polarity</th>\n",
       "      <th>max_negative_polarity</th>\n",
       "      <th>title_subjectivity</th>\n",
       "      <th>title_sentiment_polarity</th>\n",
       "      <th>abs_title_subjectivity</th>\n",
       "      <th>abs_title_sentiment_polarity</th>\n",
       "      <th>shares</th>\n",
       "    </tr>\n",
       "  </thead>\n",
       "  <tbody>\n",
       "    <tr>\n",
       "      <th>0</th>\n",
       "      <td>http://mashable.com/2013/01/07/amazon-instant-...</td>\n",
       "      <td>731.0</td>\n",
       "      <td>12.0</td>\n",
       "      <td>219.0</td>\n",
       "      <td>0.663594</td>\n",
       "      <td>1.0</td>\n",
       "      <td>0.815385</td>\n",
       "      <td>4.0</td>\n",
       "      <td>2.0</td>\n",
       "      <td>1.0</td>\n",
       "      <td>...</td>\n",
       "      <td>0.100000</td>\n",
       "      <td>0.70</td>\n",
       "      <td>-0.350000</td>\n",
       "      <td>-0.600</td>\n",
       "      <td>-0.200000</td>\n",
       "      <td>0.500000</td>\n",
       "      <td>-0.187500</td>\n",
       "      <td>0.000000</td>\n",
       "      <td>0.187500</td>\n",
       "      <td>593</td>\n",
       "    </tr>\n",
       "    <tr>\n",
       "      <th>1</th>\n",
       "      <td>http://mashable.com/2013/01/07/ap-samsung-spon...</td>\n",
       "      <td>731.0</td>\n",
       "      <td>9.0</td>\n",
       "      <td>255.0</td>\n",
       "      <td>0.604743</td>\n",
       "      <td>1.0</td>\n",
       "      <td>0.791946</td>\n",
       "      <td>3.0</td>\n",
       "      <td>1.0</td>\n",
       "      <td>1.0</td>\n",
       "      <td>...</td>\n",
       "      <td>0.033333</td>\n",
       "      <td>0.70</td>\n",
       "      <td>-0.118750</td>\n",
       "      <td>-0.125</td>\n",
       "      <td>-0.100000</td>\n",
       "      <td>0.000000</td>\n",
       "      <td>0.000000</td>\n",
       "      <td>0.500000</td>\n",
       "      <td>0.000000</td>\n",
       "      <td>711</td>\n",
       "    </tr>\n",
       "    <tr>\n",
       "      <th>2</th>\n",
       "      <td>http://mashable.com/2013/01/07/apple-40-billio...</td>\n",
       "      <td>731.0</td>\n",
       "      <td>9.0</td>\n",
       "      <td>211.0</td>\n",
       "      <td>0.575130</td>\n",
       "      <td>1.0</td>\n",
       "      <td>0.663866</td>\n",
       "      <td>3.0</td>\n",
       "      <td>1.0</td>\n",
       "      <td>1.0</td>\n",
       "      <td>...</td>\n",
       "      <td>0.100000</td>\n",
       "      <td>1.00</td>\n",
       "      <td>-0.466667</td>\n",
       "      <td>-0.800</td>\n",
       "      <td>-0.133333</td>\n",
       "      <td>0.000000</td>\n",
       "      <td>0.000000</td>\n",
       "      <td>0.500000</td>\n",
       "      <td>0.000000</td>\n",
       "      <td>1500</td>\n",
       "    </tr>\n",
       "    <tr>\n",
       "      <th>3</th>\n",
       "      <td>http://mashable.com/2013/01/07/astronaut-notre...</td>\n",
       "      <td>731.0</td>\n",
       "      <td>9.0</td>\n",
       "      <td>531.0</td>\n",
       "      <td>0.503788</td>\n",
       "      <td>1.0</td>\n",
       "      <td>0.665635</td>\n",
       "      <td>9.0</td>\n",
       "      <td>0.0</td>\n",
       "      <td>1.0</td>\n",
       "      <td>...</td>\n",
       "      <td>0.136364</td>\n",
       "      <td>0.80</td>\n",
       "      <td>-0.369697</td>\n",
       "      <td>-0.600</td>\n",
       "      <td>-0.166667</td>\n",
       "      <td>0.000000</td>\n",
       "      <td>0.000000</td>\n",
       "      <td>0.500000</td>\n",
       "      <td>0.000000</td>\n",
       "      <td>1200</td>\n",
       "    </tr>\n",
       "    <tr>\n",
       "      <th>4</th>\n",
       "      <td>http://mashable.com/2013/01/07/att-u-verse-apps/</td>\n",
       "      <td>731.0</td>\n",
       "      <td>13.0</td>\n",
       "      <td>1072.0</td>\n",
       "      <td>0.415646</td>\n",
       "      <td>1.0</td>\n",
       "      <td>0.540890</td>\n",
       "      <td>19.0</td>\n",
       "      <td>19.0</td>\n",
       "      <td>20.0</td>\n",
       "      <td>...</td>\n",
       "      <td>0.033333</td>\n",
       "      <td>1.00</td>\n",
       "      <td>-0.220192</td>\n",
       "      <td>-0.500</td>\n",
       "      <td>-0.050000</td>\n",
       "      <td>0.454545</td>\n",
       "      <td>0.136364</td>\n",
       "      <td>0.045455</td>\n",
       "      <td>0.136364</td>\n",
       "      <td>505</td>\n",
       "    </tr>\n",
       "    <tr>\n",
       "      <th>...</th>\n",
       "      <td>...</td>\n",
       "      <td>...</td>\n",
       "      <td>...</td>\n",
       "      <td>...</td>\n",
       "      <td>...</td>\n",
       "      <td>...</td>\n",
       "      <td>...</td>\n",
       "      <td>...</td>\n",
       "      <td>...</td>\n",
       "      <td>...</td>\n",
       "      <td>...</td>\n",
       "      <td>...</td>\n",
       "      <td>...</td>\n",
       "      <td>...</td>\n",
       "      <td>...</td>\n",
       "      <td>...</td>\n",
       "      <td>...</td>\n",
       "      <td>...</td>\n",
       "      <td>...</td>\n",
       "      <td>...</td>\n",
       "      <td>...</td>\n",
       "    </tr>\n",
       "    <tr>\n",
       "      <th>39639</th>\n",
       "      <td>http://mashable.com/2014/12/27/samsung-app-aut...</td>\n",
       "      <td>8.0</td>\n",
       "      <td>11.0</td>\n",
       "      <td>346.0</td>\n",
       "      <td>0.529052</td>\n",
       "      <td>1.0</td>\n",
       "      <td>0.684783</td>\n",
       "      <td>9.0</td>\n",
       "      <td>7.0</td>\n",
       "      <td>1.0</td>\n",
       "      <td>...</td>\n",
       "      <td>0.100000</td>\n",
       "      <td>0.75</td>\n",
       "      <td>-0.260000</td>\n",
       "      <td>-0.500</td>\n",
       "      <td>-0.125000</td>\n",
       "      <td>0.100000</td>\n",
       "      <td>0.000000</td>\n",
       "      <td>0.400000</td>\n",
       "      <td>0.000000</td>\n",
       "      <td>1800</td>\n",
       "    </tr>\n",
       "    <tr>\n",
       "      <th>39640</th>\n",
       "      <td>http://mashable.com/2014/12/27/seth-rogen-jame...</td>\n",
       "      <td>8.0</td>\n",
       "      <td>12.0</td>\n",
       "      <td>328.0</td>\n",
       "      <td>0.696296</td>\n",
       "      <td>1.0</td>\n",
       "      <td>0.885057</td>\n",
       "      <td>9.0</td>\n",
       "      <td>7.0</td>\n",
       "      <td>3.0</td>\n",
       "      <td>...</td>\n",
       "      <td>0.136364</td>\n",
       "      <td>0.70</td>\n",
       "      <td>-0.211111</td>\n",
       "      <td>-0.400</td>\n",
       "      <td>-0.100000</td>\n",
       "      <td>0.300000</td>\n",
       "      <td>1.000000</td>\n",
       "      <td>0.200000</td>\n",
       "      <td>1.000000</td>\n",
       "      <td>1900</td>\n",
       "    </tr>\n",
       "    <tr>\n",
       "      <th>39641</th>\n",
       "      <td>http://mashable.com/2014/12/27/son-pays-off-mo...</td>\n",
       "      <td>8.0</td>\n",
       "      <td>10.0</td>\n",
       "      <td>442.0</td>\n",
       "      <td>0.516355</td>\n",
       "      <td>1.0</td>\n",
       "      <td>0.644128</td>\n",
       "      <td>24.0</td>\n",
       "      <td>1.0</td>\n",
       "      <td>12.0</td>\n",
       "      <td>...</td>\n",
       "      <td>0.136364</td>\n",
       "      <td>0.50</td>\n",
       "      <td>-0.356439</td>\n",
       "      <td>-0.800</td>\n",
       "      <td>-0.166667</td>\n",
       "      <td>0.454545</td>\n",
       "      <td>0.136364</td>\n",
       "      <td>0.045455</td>\n",
       "      <td>0.136364</td>\n",
       "      <td>1900</td>\n",
       "    </tr>\n",
       "    <tr>\n",
       "      <th>39642</th>\n",
       "      <td>http://mashable.com/2014/12/27/ukraine-blasts/</td>\n",
       "      <td>8.0</td>\n",
       "      <td>6.0</td>\n",
       "      <td>682.0</td>\n",
       "      <td>0.539493</td>\n",
       "      <td>1.0</td>\n",
       "      <td>0.692661</td>\n",
       "      <td>10.0</td>\n",
       "      <td>1.0</td>\n",
       "      <td>1.0</td>\n",
       "      <td>...</td>\n",
       "      <td>0.062500</td>\n",
       "      <td>0.50</td>\n",
       "      <td>-0.205246</td>\n",
       "      <td>-0.500</td>\n",
       "      <td>-0.012500</td>\n",
       "      <td>0.000000</td>\n",
       "      <td>0.000000</td>\n",
       "      <td>0.500000</td>\n",
       "      <td>0.000000</td>\n",
       "      <td>1100</td>\n",
       "    </tr>\n",
       "    <tr>\n",
       "      <th>39643</th>\n",
       "      <td>http://mashable.com/2014/12/27/youtube-channel...</td>\n",
       "      <td>8.0</td>\n",
       "      <td>10.0</td>\n",
       "      <td>157.0</td>\n",
       "      <td>0.701987</td>\n",
       "      <td>1.0</td>\n",
       "      <td>0.846154</td>\n",
       "      <td>1.0</td>\n",
       "      <td>1.0</td>\n",
       "      <td>0.0</td>\n",
       "      <td>...</td>\n",
       "      <td>0.100000</td>\n",
       "      <td>0.50</td>\n",
       "      <td>-0.200000</td>\n",
       "      <td>-0.200</td>\n",
       "      <td>-0.200000</td>\n",
       "      <td>0.333333</td>\n",
       "      <td>0.250000</td>\n",
       "      <td>0.166667</td>\n",
       "      <td>0.250000</td>\n",
       "      <td>1300</td>\n",
       "    </tr>\n",
       "  </tbody>\n",
       "</table>\n",
       "<p>39644 rows × 61 columns</p>\n",
       "</div>"
      ],
      "text/plain": [
       "                                                     url  timedelta  \\\n",
       "0      http://mashable.com/2013/01/07/amazon-instant-...      731.0   \n",
       "1      http://mashable.com/2013/01/07/ap-samsung-spon...      731.0   \n",
       "2      http://mashable.com/2013/01/07/apple-40-billio...      731.0   \n",
       "3      http://mashable.com/2013/01/07/astronaut-notre...      731.0   \n",
       "4       http://mashable.com/2013/01/07/att-u-verse-apps/      731.0   \n",
       "...                                                  ...        ...   \n",
       "39639  http://mashable.com/2014/12/27/samsung-app-aut...        8.0   \n",
       "39640  http://mashable.com/2014/12/27/seth-rogen-jame...        8.0   \n",
       "39641  http://mashable.com/2014/12/27/son-pays-off-mo...        8.0   \n",
       "39642     http://mashable.com/2014/12/27/ukraine-blasts/        8.0   \n",
       "39643  http://mashable.com/2014/12/27/youtube-channel...        8.0   \n",
       "\n",
       "       n_tokens_title  n_tokens_content  n_unique_tokens  n_non_stop_words  \\\n",
       "0                12.0             219.0         0.663594               1.0   \n",
       "1                 9.0             255.0         0.604743               1.0   \n",
       "2                 9.0             211.0         0.575130               1.0   \n",
       "3                 9.0             531.0         0.503788               1.0   \n",
       "4                13.0            1072.0         0.415646               1.0   \n",
       "...               ...               ...              ...               ...   \n",
       "39639            11.0             346.0         0.529052               1.0   \n",
       "39640            12.0             328.0         0.696296               1.0   \n",
       "39641            10.0             442.0         0.516355               1.0   \n",
       "39642             6.0             682.0         0.539493               1.0   \n",
       "39643            10.0             157.0         0.701987               1.0   \n",
       "\n",
       "       n_non_stop_unique_tokens  num_hrefs  num_self_hrefs  num_imgs  ...  \\\n",
       "0                      0.815385        4.0             2.0       1.0  ...   \n",
       "1                      0.791946        3.0             1.0       1.0  ...   \n",
       "2                      0.663866        3.0             1.0       1.0  ...   \n",
       "3                      0.665635        9.0             0.0       1.0  ...   \n",
       "4                      0.540890       19.0            19.0      20.0  ...   \n",
       "...                         ...        ...             ...       ...  ...   \n",
       "39639                  0.684783        9.0             7.0       1.0  ...   \n",
       "39640                  0.885057        9.0             7.0       3.0  ...   \n",
       "39641                  0.644128       24.0             1.0      12.0  ...   \n",
       "39642                  0.692661       10.0             1.0       1.0  ...   \n",
       "39643                  0.846154        1.0             1.0       0.0  ...   \n",
       "\n",
       "       min_positive_polarity  max_positive_polarity  avg_negative_polarity  \\\n",
       "0                   0.100000                   0.70              -0.350000   \n",
       "1                   0.033333                   0.70              -0.118750   \n",
       "2                   0.100000                   1.00              -0.466667   \n",
       "3                   0.136364                   0.80              -0.369697   \n",
       "4                   0.033333                   1.00              -0.220192   \n",
       "...                      ...                    ...                    ...   \n",
       "39639               0.100000                   0.75              -0.260000   \n",
       "39640               0.136364                   0.70              -0.211111   \n",
       "39641               0.136364                   0.50              -0.356439   \n",
       "39642               0.062500                   0.50              -0.205246   \n",
       "39643               0.100000                   0.50              -0.200000   \n",
       "\n",
       "       min_negative_polarity  max_negative_polarity  title_subjectivity  \\\n",
       "0                     -0.600              -0.200000            0.500000   \n",
       "1                     -0.125              -0.100000            0.000000   \n",
       "2                     -0.800              -0.133333            0.000000   \n",
       "3                     -0.600              -0.166667            0.000000   \n",
       "4                     -0.500              -0.050000            0.454545   \n",
       "...                      ...                    ...                 ...   \n",
       "39639                 -0.500              -0.125000            0.100000   \n",
       "39640                 -0.400              -0.100000            0.300000   \n",
       "39641                 -0.800              -0.166667            0.454545   \n",
       "39642                 -0.500              -0.012500            0.000000   \n",
       "39643                 -0.200              -0.200000            0.333333   \n",
       "\n",
       "       title_sentiment_polarity  abs_title_subjectivity  \\\n",
       "0                     -0.187500                0.000000   \n",
       "1                      0.000000                0.500000   \n",
       "2                      0.000000                0.500000   \n",
       "3                      0.000000                0.500000   \n",
       "4                      0.136364                0.045455   \n",
       "...                         ...                     ...   \n",
       "39639                  0.000000                0.400000   \n",
       "39640                  1.000000                0.200000   \n",
       "39641                  0.136364                0.045455   \n",
       "39642                  0.000000                0.500000   \n",
       "39643                  0.250000                0.166667   \n",
       "\n",
       "       abs_title_sentiment_polarity  shares  \n",
       "0                          0.187500     593  \n",
       "1                          0.000000     711  \n",
       "2                          0.000000    1500  \n",
       "3                          0.000000    1200  \n",
       "4                          0.136364     505  \n",
       "...                             ...     ...  \n",
       "39639                      0.000000    1800  \n",
       "39640                      1.000000    1900  \n",
       "39641                      0.136364    1900  \n",
       "39642                      0.000000    1100  \n",
       "39643                      0.250000    1300  \n",
       "\n",
       "[39644 rows x 61 columns]"
      ]
     },
     "execution_count": 39,
     "metadata": {},
     "output_type": "execute_result"
    }
   ],
   "source": [
    "#Read data\n",
    "data = pd.read_csv('./dataset.csv',sep=',',skipinitialspace=True)\n",
    "data"
   ]
  },
  {
   "cell_type": "code",
   "execution_count": 40,
   "metadata": {},
   "outputs": [
    {
     "data": {
      "text/plain": [
       "<matplotlib.axes._subplots.AxesSubplot at 0x25e199c0488>"
      ]
     },
     "execution_count": 40,
     "metadata": {},
     "output_type": "execute_result"
    },
    {
     "data": {
      "image/png": "[encoded data removed]",
      "text/plain": [
       "<Figure size 432x288 with 1 Axes>"
      ]
     },
     "metadata": {
      "needs_background": "light"
     },
     "output_type": "display_data"
    }
   ],
   "source": [
    "modified_data = np.log(data['shares'])\n",
    "data['shares'] = modified_data\n",
    "data['shares'].plot(kind='kde', color='blue')"
   ]
  },
  {
   "cell_type": "markdown",
   "metadata": {},
   "source": [
    "Svako preprocesiranje dataseta je izvršeno pre njegovog objavljivanja tako da ne postoje nikakve nevalidne odnosno prazne vrednosti. \n",
    "\n",
    "Možemo uočiti da su nam podaci iz prve dve kolone (URL i broj dana koji je protekao između objavljivanja članaka i preuzimanja podataka) beznačajne za predviđanje naših podataka tako da ćemo ih odmah izbaciti iz upotrebe.\n",
    "\n",
    "Što znači da imamo 58 atributa za predviđanje i jednu ciljnu vrednost (broj share-ova) kao i gotovo 40.000 entiteta."
   ]
  },
  {
   "cell_type": "code",
   "execution_count": 41,
   "metadata": {},
   "outputs": [],
   "source": [
    "x = data.iloc[:,2:-1]\n",
    "column_names = x.columns\n",
    "y = modified_data"
   ]
  },
  {
   "cell_type": "markdown",
   "metadata": {},
   "source": [
    "U nastavku je data deskriptivna analiza podataka ulaznih podataka."
   ]
  },
  {
   "cell_type": "code",
   "execution_count": 42,
   "metadata": {},
   "outputs": [
    {
     "data": {
      "text/html": [
       "<div>\n",
       "<style scoped>\n",
       "    .dataframe tbody tr th:only-of-type {\n",
       "        vertical-align: middle;\n",
       "    }\n",
       "\n",
       "    .dataframe tbody tr th {\n",
       "        vertical-align: top;\n",
       "    }\n",
       "\n",
       "    .dataframe thead th {\n",
       "        text-align: right;\n",
       "    }\n",
       "</style>\n",
       "<table border=\"1\" class=\"dataframe\">\n",
       "  <thead>\n",
       "    <tr style=\"text-align: right;\">\n",
       "      <th></th>\n",
       "      <th>n_tokens_title</th>\n",
       "      <th>n_tokens_content</th>\n",
       "      <th>n_unique_tokens</th>\n",
       "      <th>n_non_stop_words</th>\n",
       "      <th>n_non_stop_unique_tokens</th>\n",
       "      <th>num_hrefs</th>\n",
       "      <th>num_self_hrefs</th>\n",
       "      <th>num_imgs</th>\n",
       "      <th>num_videos</th>\n",
       "      <th>average_token_length</th>\n",
       "      <th>...</th>\n",
       "      <th>avg_positive_polarity</th>\n",
       "      <th>min_positive_polarity</th>\n",
       "      <th>max_positive_polarity</th>\n",
       "      <th>avg_negative_polarity</th>\n",
       "      <th>min_negative_polarity</th>\n",
       "      <th>max_negative_polarity</th>\n",
       "      <th>title_subjectivity</th>\n",
       "      <th>title_sentiment_polarity</th>\n",
       "      <th>abs_title_subjectivity</th>\n",
       "      <th>abs_title_sentiment_polarity</th>\n",
       "    </tr>\n",
       "  </thead>\n",
       "  <tbody>\n",
       "    <tr>\n",
       "      <th>count</th>\n",
       "      <td>39644.000000</td>\n",
       "      <td>39644.000000</td>\n",
       "      <td>39644.000000</td>\n",
       "      <td>39644.000000</td>\n",
       "      <td>39644.000000</td>\n",
       "      <td>39644.000000</td>\n",
       "      <td>39644.000000</td>\n",
       "      <td>39644.000000</td>\n",
       "      <td>39644.000000</td>\n",
       "      <td>39644.000000</td>\n",
       "      <td>...</td>\n",
       "      <td>39644.000000</td>\n",
       "      <td>39644.000000</td>\n",
       "      <td>39644.000000</td>\n",
       "      <td>39644.000000</td>\n",
       "      <td>39644.000000</td>\n",
       "      <td>39644.000000</td>\n",
       "      <td>39644.000000</td>\n",
       "      <td>39644.000000</td>\n",
       "      <td>39644.000000</td>\n",
       "      <td>39644.000000</td>\n",
       "    </tr>\n",
       "    <tr>\n",
       "      <th>mean</th>\n",
       "      <td>10.398749</td>\n",
       "      <td>546.514731</td>\n",
       "      <td>0.548216</td>\n",
       "      <td>0.996469</td>\n",
       "      <td>0.689175</td>\n",
       "      <td>10.883690</td>\n",
       "      <td>3.293638</td>\n",
       "      <td>4.544143</td>\n",
       "      <td>1.249874</td>\n",
       "      <td>4.548239</td>\n",
       "      <td>...</td>\n",
       "      <td>0.353825</td>\n",
       "      <td>0.095446</td>\n",
       "      <td>0.756728</td>\n",
       "      <td>-0.259524</td>\n",
       "      <td>-0.521944</td>\n",
       "      <td>-0.107500</td>\n",
       "      <td>0.282353</td>\n",
       "      <td>0.071425</td>\n",
       "      <td>0.341843</td>\n",
       "      <td>0.156064</td>\n",
       "    </tr>\n",
       "    <tr>\n",
       "      <th>std</th>\n",
       "      <td>2.114037</td>\n",
       "      <td>471.107508</td>\n",
       "      <td>3.520708</td>\n",
       "      <td>5.231231</td>\n",
       "      <td>3.264816</td>\n",
       "      <td>11.332017</td>\n",
       "      <td>3.855141</td>\n",
       "      <td>8.309434</td>\n",
       "      <td>4.107855</td>\n",
       "      <td>0.844406</td>\n",
       "      <td>...</td>\n",
       "      <td>0.104542</td>\n",
       "      <td>0.071315</td>\n",
       "      <td>0.247786</td>\n",
       "      <td>0.127726</td>\n",
       "      <td>0.290290</td>\n",
       "      <td>0.095373</td>\n",
       "      <td>0.324247</td>\n",
       "      <td>0.265450</td>\n",
       "      <td>0.188791</td>\n",
       "      <td>0.226294</td>\n",
       "    </tr>\n",
       "    <tr>\n",
       "      <th>min</th>\n",
       "      <td>2.000000</td>\n",
       "      <td>0.000000</td>\n",
       "      <td>0.000000</td>\n",
       "      <td>0.000000</td>\n",
       "      <td>0.000000</td>\n",
       "      <td>0.000000</td>\n",
       "      <td>0.000000</td>\n",
       "      <td>0.000000</td>\n",
       "      <td>0.000000</td>\n",
       "      <td>0.000000</td>\n",
       "      <td>...</td>\n",
       "      <td>0.000000</td>\n",
       "      <td>0.000000</td>\n",
       "      <td>0.000000</td>\n",
       "      <td>-1.000000</td>\n",
       "      <td>-1.000000</td>\n",
       "      <td>-1.000000</td>\n",
       "      <td>0.000000</td>\n",
       "      <td>-1.000000</td>\n",
       "      <td>0.000000</td>\n",
       "      <td>0.000000</td>\n",
       "    </tr>\n",
       "    <tr>\n",
       "      <th>25%</th>\n",
       "      <td>9.000000</td>\n",
       "      <td>246.000000</td>\n",
       "      <td>0.470870</td>\n",
       "      <td>1.000000</td>\n",
       "      <td>0.625739</td>\n",
       "      <td>4.000000</td>\n",
       "      <td>1.000000</td>\n",
       "      <td>1.000000</td>\n",
       "      <td>0.000000</td>\n",
       "      <td>4.478404</td>\n",
       "      <td>...</td>\n",
       "      <td>0.306244</td>\n",
       "      <td>0.050000</td>\n",
       "      <td>0.600000</td>\n",
       "      <td>-0.328383</td>\n",
       "      <td>-0.700000</td>\n",
       "      <td>-0.125000</td>\n",
       "      <td>0.000000</td>\n",
       "      <td>0.000000</td>\n",
       "      <td>0.166667</td>\n",
       "      <td>0.000000</td>\n",
       "    </tr>\n",
       "    <tr>\n",
       "      <th>50%</th>\n",
       "      <td>10.000000</td>\n",
       "      <td>409.000000</td>\n",
       "      <td>0.539226</td>\n",
       "      <td>1.000000</td>\n",
       "      <td>0.690476</td>\n",
       "      <td>8.000000</td>\n",
       "      <td>3.000000</td>\n",
       "      <td>1.000000</td>\n",
       "      <td>0.000000</td>\n",
       "      <td>4.664082</td>\n",
       "      <td>...</td>\n",
       "      <td>0.358755</td>\n",
       "      <td>0.100000</td>\n",
       "      <td>0.800000</td>\n",
       "      <td>-0.253333</td>\n",
       "      <td>-0.500000</td>\n",
       "      <td>-0.100000</td>\n",
       "      <td>0.150000</td>\n",
       "      <td>0.000000</td>\n",
       "      <td>0.500000</td>\n",
       "      <td>0.000000</td>\n",
       "    </tr>\n",
       "    <tr>\n",
       "      <th>75%</th>\n",
       "      <td>12.000000</td>\n",
       "      <td>716.000000</td>\n",
       "      <td>0.608696</td>\n",
       "      <td>1.000000</td>\n",
       "      <td>0.754630</td>\n",
       "      <td>14.000000</td>\n",
       "      <td>4.000000</td>\n",
       "      <td>4.000000</td>\n",
       "      <td>1.000000</td>\n",
       "      <td>4.854839</td>\n",
       "      <td>...</td>\n",
       "      <td>0.411428</td>\n",
       "      <td>0.100000</td>\n",
       "      <td>1.000000</td>\n",
       "      <td>-0.186905</td>\n",
       "      <td>-0.300000</td>\n",
       "      <td>-0.050000</td>\n",
       "      <td>0.500000</td>\n",
       "      <td>0.150000</td>\n",
       "      <td>0.500000</td>\n",
       "      <td>0.250000</td>\n",
       "    </tr>\n",
       "    <tr>\n",
       "      <th>max</th>\n",
       "      <td>23.000000</td>\n",
       "      <td>8474.000000</td>\n",
       "      <td>701.000000</td>\n",
       "      <td>1042.000000</td>\n",
       "      <td>650.000000</td>\n",
       "      <td>304.000000</td>\n",
       "      <td>116.000000</td>\n",
       "      <td>128.000000</td>\n",
       "      <td>91.000000</td>\n",
       "      <td>8.041534</td>\n",
       "      <td>...</td>\n",
       "      <td>1.000000</td>\n",
       "      <td>1.000000</td>\n",
       "      <td>1.000000</td>\n",
       "      <td>0.000000</td>\n",
       "      <td>0.000000</td>\n",
       "      <td>0.000000</td>\n",
       "      <td>1.000000</td>\n",
       "      <td>1.000000</td>\n",
       "      <td>0.500000</td>\n",
       "      <td>1.000000</td>\n",
       "    </tr>\n",
       "  </tbody>\n",
       "</table>\n",
       "<p>8 rows × 58 columns</p>\n",
       "</div>"
      ],
      "text/plain": [
       "       n_tokens_title  n_tokens_content  n_unique_tokens  n_non_stop_words  \\\n",
       "count    39644.000000      39644.000000     39644.000000      39644.000000   \n",
       "mean        10.398749        546.514731         0.548216          0.996469   \n",
       "std          2.114037        471.107508         3.520708          5.231231   \n",
       "min          2.000000          0.000000         0.000000          0.000000   \n",
       "25%          9.000000        246.000000         0.470870          1.000000   \n",
       "50%         10.000000        409.000000         0.539226          1.000000   \n",
       "75%         12.000000        716.000000         0.608696          1.000000   \n",
       "max         23.000000       8474.000000       701.000000       1042.000000   \n",
       "\n",
       "       n_non_stop_unique_tokens     num_hrefs  num_self_hrefs      num_imgs  \\\n",
       "count              39644.000000  39644.000000    39644.000000  39644.000000   \n",
       "mean                   0.689175     10.883690        3.293638      4.544143   \n",
       "std                    3.264816     11.332017        3.855141      8.309434   \n",
       "min                    0.000000      0.000000        0.000000      0.000000   \n",
       "25%                    0.625739      4.000000        1.000000      1.000000   \n",
       "50%                    0.690476      8.000000        3.000000      1.000000   \n",
       "75%                    0.754630     14.000000        4.000000      4.000000   \n",
       "max                  650.000000    304.000000      116.000000    128.000000   \n",
       "\n",
       "         num_videos  average_token_length  ...  avg_positive_polarity  \\\n",
       "count  39644.000000          39644.000000  ...           39644.000000   \n",
       "mean       1.249874              4.548239  ...               0.353825   \n",
       "std        4.107855              0.844406  ...               0.104542   \n",
       "min        0.000000              0.000000  ...               0.000000   \n",
       "25%        0.000000              4.478404  ...               0.306244   \n",
       "50%        0.000000              4.664082  ...               0.358755   \n",
       "75%        1.000000              4.854839  ...               0.411428   \n",
       "max       91.000000              8.041534  ...               1.000000   \n",
       "\n",
       "       min_positive_polarity  max_positive_polarity  avg_negative_polarity  \\\n",
       "count           39644.000000           39644.000000           39644.000000   \n",
       "mean                0.095446               0.756728              -0.259524   \n",
       "std                 0.071315               0.247786               0.127726   \n",
       "min                 0.000000               0.000000              -1.000000   \n",
       "25%                 0.050000               0.600000              -0.328383   \n",
       "50%                 0.100000               0.800000              -0.253333   \n",
       "75%                 0.100000               1.000000              -0.186905   \n",
       "max                 1.000000               1.000000               0.000000   \n",
       "\n",
       "       min_negative_polarity  max_negative_polarity  title_subjectivity  \\\n",
       "count           39644.000000           39644.000000        39644.000000   \n",
       "mean               -0.521944              -0.107500            0.282353   \n",
       "std                 0.290290               0.095373            0.324247   \n",
       "min                -1.000000              -1.000000            0.000000   \n",
       "25%                -0.700000              -0.125000            0.000000   \n",
       "50%                -0.500000              -0.100000            0.150000   \n",
       "75%                -0.300000              -0.050000            0.500000   \n",
       "max                 0.000000               0.000000            1.000000   \n",
       "\n",
       "       title_sentiment_polarity  abs_title_subjectivity  \\\n",
       "count              39644.000000            39644.000000   \n",
       "mean                   0.071425                0.341843   \n",
       "std                    0.265450                0.188791   \n",
       "min                   -1.000000                0.000000   \n",
       "25%                    0.000000                0.166667   \n",
       "50%                    0.000000                0.500000   \n",
       "75%                    0.150000                0.500000   \n",
       "max                    1.000000                0.500000   \n",
       "\n",
       "       abs_title_sentiment_polarity  \n",
       "count                  39644.000000  \n",
       "mean                       0.156064  \n",
       "std                        0.226294  \n",
       "min                        0.000000  \n",
       "25%                        0.000000  \n",
       "50%                        0.000000  \n",
       "75%                        0.250000  \n",
       "max                        1.000000  \n",
       "\n",
       "[8 rows x 58 columns]"
      ]
     },
     "execution_count": 42,
     "metadata": {},
     "output_type": "execute_result"
    }
   ],
   "source": [
    "x.describe()"
   ]
  },
  {
   "cell_type": "markdown",
   "metadata": {},
   "source": [
    "Zatim vršimo i analizu share-ova."
   ]
  },
  {
   "cell_type": "code",
   "execution_count": 43,
   "metadata": {},
   "outputs": [
    {
     "data": {
      "text/plain": [
       "count    39644.000000\n",
       "mean         7.474855\n",
       "std          0.930486\n",
       "min          0.000000\n",
       "25%          6.852243\n",
       "50%          7.244228\n",
       "75%          7.937375\n",
       "max         13.645078\n",
       "Name: shares, dtype: float64"
      ]
     },
     "execution_count": 43,
     "metadata": {},
     "output_type": "execute_result"
    }
   ],
   "source": [
    "y.describe()"
   ]
  },
  {
   "cell_type": "markdown",
   "metadata": {},
   "source": [
    "Naredni graf nam prikazuje distribuciju share-ova."
   ]
  },
  {
   "cell_type": "markdown",
   "metadata": {},
   "source": [
    "Pošto imamo podatke gde svaki atribut ima različiti opseg vrednosti potrebno je izvršiti skaliranje podataka po kolonama kako bi svi podaci bili pozitivni i u opsegu <bold>[0,1]</bold>."
   ]
  },
  {
   "cell_type": "code",
   "execution_count": 44,
   "metadata": {},
   "outputs": [],
   "source": [
    "for column in x.columns:\n",
    "    min_max_scaler = MinMaxScaler()\n",
    "    x[column] = min_max_scaler.fit_transform(x[column].values.reshape(-1,1))"
   ]
  },
  {
   "cell_type": "markdown",
   "metadata": {},
   "source": [
    "Pošto želimo da vršimo klasifikaciju o tome da li će članak biti popularan ili ne tu pretpostavku ćemo izvršiti tako što ćemo obeležiti sve članke koji imaju više od 1400 share-ova kao popularne. Takođe ćemo podatke prebaciti u tip np.array."
   ]
  },
  {
   "cell_type": "code",
   "execution_count": 45,
   "metadata": {},
   "outputs": [],
   "source": [
    "x = np.array(x)\n",
    "y = np.array([i>7.244228 for i in y])"
   ]
  },
  {
   "cell_type": "markdown",
   "metadata": {},
   "source": [
    "Zatim delimo podatke na skupove za treniranje i testiranje. "
   ]
  },
  {
   "cell_type": "code",
   "execution_count": 46,
   "metadata": {},
   "outputs": [],
   "source": [
    "x_train, x_test, y_train, y_test = train_test_split(x, y, random_state=1, train_size=0.7)"
   ]
  },
  {
   "cell_type": "code",
   "execution_count": 47,
   "metadata": {},
   "outputs": [],
   "source": [
    "#Ova metoda prikazuje najbitnije fičure kod modela\n",
    "def plot_feature_importance(model):\n",
    "    plt.title('Feature importance')   \n",
    "    column_names_top_10 = [item for _,item in sorted(zip(model.feature_importances_[1:],column_names),reverse=True)]\n",
    "    column_names_top_10 = column_names_top_10[:10]\n",
    "    feature_importance_top_10 = sorted(model.feature_importances_[:-1],reverse=True)[:10]\n",
    "    plt.barh(column_names_top_10, feature_importance_top_10)\n",
    "    plt.show()\n",
    "    \n",
    "#Ova metoda služi za treniranje modela i prikazivanje rezultata testiranja\n",
    "def run_model(model,print_feature_importance=False):\n",
    "    print('*'*75)\n",
    "    print('Model class:',type(model))\n",
    "    trained_model = model.fit(x_train,y_train)\n",
    "    print('Model test score:',trained_model.score(x_test,y_test))\n",
    "    pred = trained_model.predict(x_test)\n",
    "    cross_val_results = cross_val_score(model,x,y)\n",
    "    print('Cross validation results (5 fold):',cross_val_results)\n",
    "    print(classification_report(y_test,pred))\n",
    "    auc = roc_auc_score(y_test,pred)\n",
    "    print('AUC score:',auc)\n",
    "    cm = confusion_matrix(y_test,pred)\n",
    "    cm_df = pd.DataFrame(cm,[0,1],[0,1])\n",
    "    group_names=['TN','FP','FN','TP']\n",
    "    group_counts = [\"{0:0.0f}\".format(value) for value in cm.flatten()]\n",
    "    group_percentages = [\"{0:.2%}\".format(value) for value in cm.flatten()/np.sum(cm)]\n",
    "    labels = [f\"{v1}\\n{v2}\\n{v3}\" for v1, v2, v3 in zip(group_names,group_counts,group_percentages)]\n",
    "    labels = np.asarray(labels).reshape(2,2)\n",
    "    plt.title('Confusion matrix heatmap')\n",
    "    sb.heatmap(cm, annot=labels, fmt='', cmap='Blues')\n",
    "    plt.show()\n",
    "    \n",
    "    #Calculate AUC curve\n",
    "    fpr,tpr,_ = roc_curve(y_test,pred)\n",
    "    \n",
    "    plt.title('ROC curve')\n",
    "    plt.plot(fpr,tpr)\n",
    "    plt.xlabel('False Positive Rate')\n",
    "    plt.ylabel('True Positive Rate')\n",
    "    plt.show()\n",
    "    print('*'*75)"
   ]
  },
  {
   "cell_type": "code",
   "execution_count": 54,
   "metadata": {},
   "outputs": [
    {
     "name": "stdout",
     "output_type": "stream",
     "text": [
      "***************************************************************************\n",
      "Model class: <class 'sklearn.neighbors._classification.KNeighborsClassifier'>\n",
      "Model test score: 0.6286362872036321\n",
      "Cross validation results (5 fold): [0.60739059 0.61054357 0.63009207 0.63955102 0.62840565]\n",
      "              precision    recall  f1-score   support\n",
      "\n",
      "       False       0.62      0.69      0.65      5980\n",
      "        True       0.64      0.57      0.60      5914\n",
      "\n",
      "    accuracy                           0.63     11894\n",
      "   macro avg       0.63      0.63      0.63     11894\n",
      "weighted avg       0.63      0.63      0.63     11894\n",
      "\n",
      "AUC score: 0.6282977979806434\n"
     ]
    },
    {
     "data": {
      "image/png": "[encoded data removed]",
      "text/plain": [
       "<Figure size 432x288 with 2 Axes>"
      ]
     },
     "metadata": {
      "needs_background": "light"
     },
     "output_type": "display_data"
    },
    {
     "data": {
      "image/png": "[encoded data removed]",
      "text/plain": [
       "<Figure size 432x288 with 1 Axes>"
      ]
     },
     "metadata": {
      "needs_background": "light"
     },
     "output_type": "display_data"
    },
    {
     "name": "stdout",
     "output_type": "stream",
     "text": [
      "***************************************************************************\n"
     ]
    }
   ],
   "source": [
    "knn = KNeighborsClassifier(n_neighbors=50)\n",
    "run_model(knn)"
   ]
  },
  {
   "cell_type": "code",
   "execution_count": 49,
   "metadata": {
    "scrolled": true
   },
   "outputs": [
    {
     "name": "stdout",
     "output_type": "stream",
     "text": [
      "***************************************************************************\n",
      "Model class: <class 'sklearn.linear_model._logistic.LogisticRegression'>\n",
      "Model test score: 0.647301160248865\n",
      "Cross validation results (5 fold): [0.49375709 0.61457939 0.65607264 0.67095472 0.65110999]\n",
      "              precision    recall  f1-score   support\n",
      "\n",
      "       False       0.64      0.67      0.66      5980\n",
      "        True       0.65      0.62      0.64      5914\n",
      "\n",
      "    accuracy                           0.65     11894\n",
      "   macro avg       0.65      0.65      0.65     11894\n",
      "weighted avg       0.65      0.65      0.65     11894\n",
      "\n",
      "AUC score: 0.6471629306571449\n"
     ]
    },
    {
     "data": {
      "image/png": "[encoded data removed]",
      "text/plain": [
       "<Figure size 432x288 with 2 Axes>"
      ]
     },
     "metadata": {
      "needs_background": "light"
     },
     "output_type": "display_data"
    },
    {
     "data": {
      "image/png": "[encoded data removed]",
      "text/plain": [
       "<Figure size 432x288 with 1 Axes>"
      ]
     },
     "metadata": {
      "needs_background": "light"
     },
     "output_type": "display_data"
    },
    {
     "name": "stdout",
     "output_type": "stream",
     "text": [
      "***************************************************************************\n"
     ]
    }
   ],
   "source": [
    "logreg = LogisticRegression(max_iter=100000)\n",
    "run_model(logreg)"
   ]
  },
  {
   "cell_type": "code",
   "execution_count": 50,
   "metadata": {},
   "outputs": [
    {
     "name": "stdout",
     "output_type": "stream",
     "text": [
      "***************************************************************************\n",
      "Model class: <class 'sklearn.ensemble._weight_boosting.AdaBoostClassifier'>\n",
      "Model test score: 0.6674794013788464\n",
      "Cross validation results (5 fold): [0.51746752 0.61975028 0.65657712 0.66931517 0.66372351]\n",
      "              precision    recall  f1-score   support\n",
      "\n",
      "       False       0.66      0.69      0.68      5980\n",
      "        True       0.67      0.64      0.66      5914\n",
      "\n",
      "    accuracy                           0.67     11894\n",
      "   macro avg       0.67      0.67      0.67     11894\n",
      "weighted avg       0.67      0.67      0.67     11894\n",
      "\n",
      "AUC score: 0.6673548566238721\n"
     ]
    },
    {
     "data": {
      "image/png": "[encoded data removed]",
      "text/plain": [
       "<Figure size 432x288 with 2 Axes>"
      ]
     },
     "metadata": {
      "needs_background": "light"
     },
     "output_type": "display_data"
    },
    {
     "data": {
      "image/png": "[encoded data removed]",
      "text/plain": [
       "<Figure size 432x288 with 1 Axes>"
      ]
     },
     "metadata": {
      "needs_background": "light"
     },
     "output_type": "display_data"
    },
    {
     "name": "stdout",
     "output_type": "stream",
     "text": [
      "***************************************************************************\n"
     ]
    }
   ],
   "source": [
    "ada = AdaBoostClassifier(n_estimators=200, random_state=0)\n",
    "run_model(ada)"
   ]
  },
  {
   "cell_type": "code",
   "execution_count": 51,
   "metadata": {
    "scrolled": true
   },
   "outputs": [
    {
     "name": "stdout",
     "output_type": "stream",
     "text": [
      "***************************************************************************\n",
      "Model class: <class 'sklearn.ensemble._forest.RandomForestClassifier'>\n",
      "Model test score: 0.6735328737178409\n",
      "Cross validation results (5 fold): [0.54660108 0.6505234  0.65733384 0.6753689  0.66422805]\n",
      "              precision    recall  f1-score   support\n",
      "\n",
      "       False       0.67      0.69      0.68      5980\n",
      "        True       0.68      0.66      0.67      5914\n",
      "\n",
      "    accuracy                           0.67     11894\n",
      "   macro avg       0.67      0.67      0.67     11894\n",
      "weighted avg       0.67      0.67      0.67     11894\n",
      "\n",
      "AUC score: 0.6734654348900574\n"
     ]
    },
    {
     "data": {
      "image/png": "[encoded data removed]",
      "text/plain": [
       "<Figure size 432x288 with 2 Axes>"
      ]
     },
     "metadata": {
      "needs_background": "light"
     },
     "output_type": "display_data"
    },
    {
     "data": {
      "image/png": "[encoded data removed]",
      "text/plain": [
       "<Figure size 432x288 with 1 Axes>"
      ]
     },
     "metadata": {
      "needs_background": "light"
     },
     "output_type": "display_data"
    },
    {
     "name": "stdout",
     "output_type": "stream",
     "text": [
      "***************************************************************************\n"
     ]
    }
   ],
   "source": [
    "rand_forest = RandomForestClassifier(max_depth=50,n_estimators=400)\n",
    "run_model(rand_forest)"
   ]
  },
  {
   "cell_type": "markdown",
   "metadata": {},
   "source": [
    "Iz dobijenih rezultata treniranja modela možemo zaključiti da je RandomForestClassifier najbolji model za predviđanje naših rezultata. U nastavku ćemo iz našeg modela videti koji su fičeri najbitniji (10 najbitnijih) u predviđanju rezultata."
   ]
  },
  {
   "cell_type": "code",
   "execution_count": 52,
   "metadata": {},
   "outputs": [
    {
     "data": {
      "image/png": "[encoded data removed]",
      "text/plain": [
       "<Figure size 432x288 with 1 Axes>"
      ]
     },
     "metadata": {
      "needs_background": "light"
     },
     "output_type": "display_data"
    }
   ],
   "source": [
    "plot_feature_importance(rand_forest)"
   ]
  },
  {
   "cell_type": "markdown",
   "metadata": {},
   "source": [
    "Odvade možemo zaključiti da su za predviđanje popularnosti online članaka najbitnije ključne reči koje se koriste u nasolvima, srodnost nekim od kategorija LDA_0x (autor dataseta naveo je da su ovo neke kategorije koje su izračunate metodama procesiranja prirodnih jezika) kao i to da li je članak postavljen za vikend."
   ]
  },
  {
   "cell_type": "code",
   "execution_count": null,
   "metadata": {},
   "outputs": [],
   "source": []
  }
 ],
 "metadata": {
  "kernelspec": {
   "display_name": "Python 3",
   "language": "python",
   "name": "python3"
  },
  "language_info": {
   "codemirror_mode": {
    "name": "ipython",
    "version": 3
   },
   "file_extension": ".py",
   "mimetype": "text/x-python",
   "name": "python",
   "nbconvert_exporter": "python",
   "pygments_lexer": "ipython3",
   "version": "3.7.6"
  }
 },
 "nbformat": 4,
 "nbformat_minor": 4
}
